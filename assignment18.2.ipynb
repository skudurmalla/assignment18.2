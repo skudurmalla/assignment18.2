{
 "cells": [
  {
   "cell_type": "markdown",
   "metadata": {},
   "source": [
    "In one state, 52% of the voters are Republicans, and 48% are Democrats. In a second\n",
    "state, 47% of the voters are Republicans, and 53% are Democrats. Suppose a simple\n",
    "random sample of 100 voters are surveyed from each state.\n",
    "What is the probability that the survey will show a greater percentage of Republican\n",
    "voters in the second state than in the first state?"
   ]
  },
  {
   "cell_type": "markdown",
   "metadata": {},
   "source": [
    "Mean difference of the republican voters of the two states = p1-p2 = 0.52-0.47 = 0.05\n",
    "no. of samples of the first state = n1 = 100\n",
    "no. of samples of the second state = n2 = 100\n",
    "standard deviation of the difference\n",
    "\n",
    "sd = sqrt{[ P1(1 - P1) / n1 ] + [ P2(1 - P2) / n2 ]} \n",
    "sd = sqrt{ [ (0.52)(0.48) / 100 ] + [ (0.47)(0.53) / 100 ] } \n",
    "sd = sqrt (0.002496 + 0.002491) = sqrt(0.004987) = 0.0706\n",
    "\n",
    "transform the random variable (p1 - p2) into a z-score. \n",
    "\n",
    "z(p1 - p2) = (x - p1 - p2) / σd = = (0 - 0.05)/0.0706 = -0.7082\n",
    "\n",
    "finding the probability using Z-table\n",
    "P(z <=0.7082) = 0.24\n",
    "\n",
    "Therefore the probability that the survey will show a greater percentage of Republican voters in the second state than in the first state is 0.24\n",
    "\n"
   ]
  }
 ],
 "metadata": {
  "kernelspec": {
   "display_name": "Python 3",
   "language": "python",
   "name": "python3"
  },
  "language_info": {
   "codemirror_mode": {
    "name": "ipython",
    "version": 3
   },
   "file_extension": ".py",
   "mimetype": "text/x-python",
   "name": "python",
   "nbconvert_exporter": "python",
   "pygments_lexer": "ipython3",
   "version": "3.5.5"
  }
 },
 "nbformat": 4,
 "nbformat_minor": 2
}
